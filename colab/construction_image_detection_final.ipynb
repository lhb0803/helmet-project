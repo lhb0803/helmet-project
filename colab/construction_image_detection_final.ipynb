{
  "nbformat": 4,
  "nbformat_minor": 0,
  "metadata": {
    "colab": {
      "name": "construction-image-detection-final.ipynb",
      "provenance": [],
      "collapsed_sections": [],
      "machine_shape": "hm",
      "authorship_tag": "ABX9TyNbZYDNy3VAYeOi4WsWd8t2",
      "include_colab_link": true
    },
    "kernelspec": {
      "name": "python3",
      "display_name": "Python 3"
    },
    "language_info": {
      "name": "python"
    },
    "accelerator": "GPU"
  },
  "cells": [
    {
      "cell_type": "markdown",
      "metadata": {
        "id": "view-in-github",
        "colab_type": "text"
      },
      "source": [
        "<a href=\"https://colab.research.google.com/github/lhb0803/helmet-project/blob/main/colab/construction_image_detection_final.ipynb\" target=\"_parent\"><img src=\"https://colab.research.google.com/assets/colab-badge.svg\" alt=\"Open In Colab\"/></a>"
      ]
    },
    {
      "cell_type": "code",
      "metadata": {
        "colab": {
          "base_uri": "https://localhost:8080/"
        },
        "id": "Emw-gx9G_Dd_",
        "outputId": "0fad0ca9-906b-4224-dc9e-7c827f7ca44c"
      },
      "source": [
        "!git clone https://github.com/ultralytics/yolov5\n",
        "%cd yolov5\n",
        "%pip install -qr requirements.txt"
      ],
      "execution_count": 1,
      "outputs": [
        {
          "output_type": "stream",
          "name": "stdout",
          "text": [
            "Cloning into 'yolov5'...\n",
            "remote: Enumerating objects: 10200, done.\u001b[K\n",
            "remote: Total 10200 (delta 0), reused 0 (delta 0), pack-reused 10200\u001b[K\n",
            "Receiving objects: 100% (10200/10200), 10.42 MiB | 30.74 MiB/s, done.\n",
            "Resolving deltas: 100% (7073/7073), done.\n",
            "/content/yolov5\n",
            "\u001b[K     |████████████████████████████████| 596 kB 5.0 MB/s \n",
            "\u001b[?25h"
          ]
        }
      ]
    },
    {
      "cell_type": "code",
      "metadata": {
        "colab": {
          "base_uri": "https://localhost:8080/"
        },
        "id": "g6NzTgXl_MqD",
        "outputId": "db774407-82ba-47d6-f933-33681b8a264b"
      },
      "source": [
        "import torch\n",
        "from IPython.display import Image, clear_output\n",
        "\n",
        "clear_output()\n",
        "print(f\"Setup complete. Using torch {torch.__version__} \\\n",
        "    ({torch.cuda.get_device_properties(0).name if torch.cuda.is_available() else 'CPU'})\")"
      ],
      "execution_count": 2,
      "outputs": [
        {
          "output_type": "stream",
          "name": "stdout",
          "text": [
            "Setup complete. Using torch 1.10.0+cu111     (Tesla P100-PCIE-16GB)\n"
          ]
        }
      ]
    },
    {
      "cell_type": "markdown",
      "metadata": {
        "id": "8W3lIRdRCt6t"
      },
      "source": [
        "# Get Ready Data\n",
        "\n",
        "* [ACID](https://www.acidb.ca/dataset) : advanced (6000 images) \n",
        "* [MPHB](http://parnec.nuaa.edu.cn/_upload/tpl/02/db/731/template731/pages/xtan/MPHB.html) : human pose data"
      ]
    },
    {
      "cell_type": "code",
      "metadata": {
        "colab": {
          "base_uri": "https://localhost:8080/"
        },
        "id": "AxoeAjnyDMpO",
        "outputId": "7ac2fd0b-ac66-4ece-fcf6-56af9edf645f"
      },
      "source": [
        "import os\n",
        "from pathlib import Path\n",
        "from xml.dom.minidom import parse\n",
        "from shutil import copyfile\n",
        "from PIL import Image\n",
        "from tqdm import tqdm\n",
        "\n",
        "from google.colab import drive\n",
        "\n",
        "import numpy as np\n",
        "import pandas as pd\n",
        "\n",
        "drive.mount('/content/drive')"
      ],
      "execution_count": 3,
      "outputs": [
        {
          "output_type": "stream",
          "name": "stdout",
          "text": [
            "Mounted at /content/drive\n"
          ]
        }
      ]
    },
    {
      "cell_type": "code",
      "metadata": {
        "colab": {
          "base_uri": "https://localhost:8080/"
        },
        "id": "j-d1XO3DVoUc",
        "outputId": "efb5d2ea-71f8-45fd-beb7-938dc9dd6bc4"
      },
      "source": [
        "%ls"
      ],
      "execution_count": 4,
      "outputs": [
        {
          "output_type": "stream",
          "name": "stdout",
          "text": [
            "CONTRIBUTING.md  Dockerfile  LICENSE    \u001b[0m\u001b[01;32mrequirements.txt\u001b[0m*  tutorial.ipynb\n",
            "\u001b[01;34mdata\u001b[0m/            export.py   \u001b[01;34mmodels\u001b[0m/    setup.cfg          \u001b[01;34mutils\u001b[0m/\n",
            "detect.py        hubconf.py  README.md  train.py           val.py\n"
          ]
        }
      ]
    },
    {
      "cell_type": "markdown",
      "metadata": {
        "id": "J5P_4U05JCpq"
      },
      "source": [
        "## Download ACID Data"
      ]
    },
    {
      "cell_type": "code",
      "metadata": {
        "id": "n1_Dz7LZVept"
      },
      "source": [
        "# Download from my google drive\n",
        "%cp -R ../drive/MyDrive/Helmet-Project/ACID_6000.zip data/ACID.zip\n",
        "!unzip -q data/ACID.zip -d data/\n",
        "%mv ./data/ACID_6000/JPEGImages/ ./data/ACID_6000/Images/ \n",
        "%rm -f ./data/ACID_6000/Images/.DS_Store\n",
        "%rm -f ./data/ACID_6000/Annotations/.DS_Store"
      ],
      "execution_count": 5,
      "outputs": []
    },
    {
      "cell_type": "markdown",
      "metadata": {
        "id": "gwzFsYzyJIUH"
      },
      "source": [
        "## Download MPHB data"
      ]
    },
    {
      "cell_type": "code",
      "source": [
        "# Download from my google drive\n",
        "%cp -R ../drive/MyDrive/Helmet-Project/Human-Body.zip data/Human.zip\n",
        "!unzip -q data/Human.zip -d data/\n",
        "%mkdir ./data/Human\n",
        "%mv ./data/Human\\ Body\\ Image/ ./data/Human/Images/\n",
        "%mkdir ./data/Human/Annotations"
      ],
      "metadata": {
        "id": "R3MyHlPuf-Rg"
      },
      "execution_count": 6,
      "outputs": []
    },
    {
      "cell_type": "markdown",
      "metadata": {
        "id": "PmILQ1axUz8i"
      },
      "source": [
        "## Preprocess data for YOLOv5 format"
      ]
    },
    {
      "cell_type": "code",
      "metadata": {
        "id": "zcMwokUhU3K0"
      },
      "source": [
        "classes = [\n",
        "           'person', \n",
        "           'excavator', 'compactor', 'dozer', 'grader', 'dump_truck', \n",
        "           'cement_truck', 'wheel_loader', 'backhoe_loader',\n",
        "           'tower_crane', 'mobile_crane'\n",
        "        ]"
      ],
      "execution_count": null,
      "outputs": []
    },
    {
      "cell_type": "code",
      "source": [
        "ACID_IMG_DIR = 'data/ACID_6000/Images/'\n",
        "ACID_ANNOT_DIR = 'data/ACID_6000/Annotations/'\n",
        "\n",
        "HUMAN_IMG_DIR = 'data/Human/Images/'\n",
        "HUMAN_ANNOT_DIR = 'data/Human/Annotations/'\n",
        "\n",
        "IMG_DIR = 'data/construction/images/'\n",
        "LABEL_DIR = 'data/construction/labels/'"
      ],
      "metadata": {
        "id": "DyDY2Iv-ICeZ"
      },
      "execution_count": null,
      "outputs": []
    },
    {
      "cell_type": "code",
      "metadata": {
        "id": "1hd_dpXCMTvn"
      },
      "source": [
        "!mkdir data/construction\n",
        "!mkdir data/construction/labels\n",
        "!mkdir data/construction/images"
      ],
      "execution_count": null,
      "outputs": []
    },
    {
      "cell_type": "markdown",
      "source": [
        "### ACID Preproccessing"
      ],
      "metadata": {
        "id": "mwG1IqAjG3-1"
      }
    },
    {
      "cell_type": "code",
      "metadata": {
        "id": "4WzmT597U80C",
        "colab": {
          "base_uri": "https://localhost:8080/"
        },
        "outputId": "7002b66b-fe31-491b-b98e-a301b517e59d"
      },
      "source": [
        "xml_files = os.listdir(ACID_ANNOT_DIR)\n",
        "\n",
        "for file_name in tqdm(xml_files):\n",
        "    file_path = ACID_ANNOT_DIR + file_name\n",
        "    dom = parse(file_path)\n",
        "    root = dom.documentElement\n",
        "\n",
        "    img_size = root.getElementsByTagName(\"size\")[0]\n",
        "    img_w = int(img_size.getElementsByTagName(\"width\")[0].childNodes[0].data)\n",
        "    img_h = int(img_size.getElementsByTagName(\"height\")[0].childNodes[0].data)\n",
        "\n",
        "    objects = root.getElementsByTagName(\"object\")\n",
        "\n",
        "    bbox_list = []\n",
        "    for box in objects:\n",
        "        cls_name = box.getElementsByTagName(\"name\")[0].childNodes[0].data\n",
        "        xmin = int(box.getElementsByTagName(\"xmin\")[0].childNodes[0].data)\n",
        "        ymin = int(box.getElementsByTagName(\"ymin\")[0].childNodes[0].data)\n",
        "        xmax = int(box.getElementsByTagName(\"xmax\")[0].childNodes[0].data)\n",
        "        ymax = int(box.getElementsByTagName(\"ymax\")[0].childNodes[0].data)\n",
        "\n",
        "        bbox_list.append([cls_name, xmin, ymin, xmax, ymax])\n",
        "    \n",
        "    save_path = LABEL_DIR + file_name.split('.')[0] + '.txt'\n",
        "    with open(save_path, 'w') as f:\n",
        "        annotation = \"\"\n",
        "        for bbox in bbox_list:\n",
        "            cls_name, xmin, ymin, xmax, ymax = bbox\n",
        "            cls_num = classes.index(cls_name)\n",
        "\n",
        "            x = (xmin + xmax) / 2 / img_w\n",
        "            y = (ymin + ymax) / 2 / img_h\n",
        "            w = (xmax - xmin) / img_w\n",
        "            h = (ymax - ymin) / img_h\n",
        "\n",
        "            annotation += f\"{cls_num} {x} {y} {w} {h}\\n\"\n",
        "        f.write(annotation)"
      ],
      "execution_count": null,
      "outputs": [
        {
          "output_type": "stream",
          "name": "stderr",
          "text": [
            "100%|██████████| 6000/6000 [00:02<00:00, 2075.50it/s]\n"
          ]
        }
      ]
    },
    {
      "cell_type": "markdown",
      "source": [
        "### MPHB Preprocessing"
      ],
      "metadata": {
        "id": "8NLfgXXmlRc5"
      }
    },
    {
      "cell_type": "code",
      "source": [
        "file_box_dict = {}\n",
        "\n",
        "with open('./data/MPHB-label-txt/MPHB-label.txt', 'r') as f:\n",
        "    while True:\n",
        "        l = f.readline()\n",
        "        if not l:\n",
        "            break\n",
        "        \n",
        "        l_splitted = l.split()\n",
        "        if len(l_splitted) == 2: # idx: 00001\n",
        "            f_name = l_splitted[1]\n",
        "            bbox_list = []\n",
        "        elif len(l_splitted) == 4: # bbox\n",
        "            bbox_list.append([float(v) for v in l_splitted])\n",
        "        elif len(l_splitted) == 3: # source: MPII: 000001163.jpg\n",
        "            f_extension = l_splitted[-1].split('.')[1]\n",
        "            file_box_dict[f_name + '.' +f_extension] = bbox_list\n",
        "\n",
        "print(len(file_box_dict))"
      ],
      "metadata": {
        "colab": {
          "base_uri": "https://localhost:8080/"
        },
        "id": "xkWCX1eXliRM",
        "outputId": "8ea1622e-47b8-4668-b7d7-21d44d3c80f3"
      },
      "execution_count": null,
      "outputs": [
        {
          "output_type": "stream",
          "name": "stdout",
          "text": [
            "26675\n"
          ]
        }
      ]
    },
    {
      "cell_type": "code",
      "source": [
        "for file_name, bbox_list in file_box_dict.items():\n",
        "    img_path = HUMAN_IMG_DIR + file_name\n",
        "\n",
        "    img_w, img_h = Image.open(img_path).size\n",
        "\n",
        "    save_path = LABEL_DIR + file_name.split('.')[0] + '.txt'\n",
        "    with open(save_path, 'w') as f:\n",
        "        annotation = \"\"\n",
        "        for bbox in bbox_list:\n",
        "            cls_num = 0\n",
        "            left, top, right, bottom = bbox\n",
        "            x = (left + right) / 2 / img_w\n",
        "            y = (top + bottom) / 2 / img_h\n",
        "            w = (right - left) / img_w\n",
        "            h = (bottom - top) / img_h\n",
        "            annotation += f\"{cls_num} {x} {y} {w} {h}\\n\"\n",
        "        f.write(annotation)"
      ],
      "metadata": {
        "id": "A7bQb5GyoncJ"
      },
      "execution_count": null,
      "outputs": []
    },
    {
      "cell_type": "markdown",
      "metadata": {
        "id": "BR0TIlqCC7KC"
      },
      "source": [
        "## Train - Valid Split"
      ]
    },
    {
      "cell_type": "code",
      "metadata": {
        "colab": {
          "base_uri": "https://localhost:8080/"
        },
        "id": "5eIH3s5FC-Za",
        "outputId": "144be7b7-3064-4eae-a004-bba91e16a618"
      },
      "source": [
        "from sklearn.model_selection import train_test_split\n",
        "import random\n",
        "random.seed(76)\n",
        "\n",
        "# ACID\n",
        "ACID_image_list = os.listdir(ACID_IMG_DIR)\n",
        "ACID_train_list, ACID_valid_list = train_test_split(ACID_image_list, test_size=0.2, random_state=76)\n",
        "\n",
        "# HUMAN\n",
        "num_to_select = 1000\n",
        "HUMAN_image_list = random.sample(os.listdir(HUMAN_IMG_DIR), num_to_select)\n",
        "HUMAN_train_list, HUMAN_valid_list = train_test_split(HUMAN_image_list, test_size=0.2, random_state=76)\n",
        "\n",
        "print('total :',len(ACID_image_list) + len(HUMAN_image_list))\n",
        "print('train :',len(ACID_train_list) + len(HUMAN_train_list))\n",
        "print('val   :',len(ACID_valid_list) + len(HUMAN_valid_list))"
      ],
      "execution_count": null,
      "outputs": [
        {
          "output_type": "stream",
          "name": "stdout",
          "text": [
            "total : 7000\n",
            "train : 5600\n",
            "val   : 1400\n"
          ]
        }
      ]
    },
    {
      "cell_type": "code",
      "metadata": {
        "id": "f71ljJodDm2e"
      },
      "source": [
        "def copy_data(file_list, img_labels_root, imgs_source, mode):\n",
        "\n",
        "    root_file = Path(IMG_DIR + mode)\n",
        "    if not root_file.exists():\n",
        "        print(f\"Path {root_file} does not exist\")\n",
        "        os.makedirs(root_file)\n",
        "\n",
        "    root_file = Path(LABEL_DIR + mode)\n",
        "    if not root_file.exists():\n",
        "        print(f\"Path {root_file} does not exist\")\n",
        "        os.makedirs(root_file)\n",
        "\n",
        "    for file in tqdm(file_list):\n",
        "        img_name, img_format = file.split('.')\n",
        "        img_src_file = imgs_source  + img_name + f\".{img_format}\"\n",
        "        label_src_file = img_labels_root + img_name + '.txt'\n",
        "\n",
        "        # Copy image\n",
        "        img_dict_file = IMG_DIR + mode + '/' + img_name + f\".{img_format}\"\n",
        "        copyfile(img_src_file, img_dict_file)\n",
        "        # Delete image\n",
        "        os.remove(img_src_file)\n",
        "\n",
        "        # Copy label\n",
        "        label_dict_file = LABEL_DIR + mode + '/' + img_name + '.txt'\n",
        "        copyfile(label_src_file, label_dict_file)\n",
        "        # Delete label\n",
        "        os.remove(label_src_file)\n"
      ],
      "execution_count": null,
      "outputs": []
    },
    {
      "cell_type": "code",
      "metadata": {
        "colab": {
          "base_uri": "https://localhost:8080/"
        },
        "id": "gdgt2jb2HCLj",
        "outputId": "0153d485-c231-4a28-f9cd-975aea466a29"
      },
      "source": [
        "# ACID\n",
        "copy_data(ACID_train_list, LABEL_DIR, ACID_IMG_DIR, \"train\")\n",
        "copy_data(ACID_valid_list, LABEL_DIR, ACID_IMG_DIR, \"val\")\n",
        "\n",
        "# HUMAN\n",
        "copy_data(HUMAN_train_list, LABEL_DIR, HUMAN_IMG_DIR, \"train\")\n",
        "copy_data(HUMAN_valid_list, LABEL_DIR, HUMAN_IMG_DIR, \"val\")"
      ],
      "execution_count": null,
      "outputs": [
        {
          "output_type": "stream",
          "name": "stdout",
          "text": [
            "Path data/construction/images/train does not exist\n",
            "Path data/construction/labels/train does not exist\n"
          ]
        },
        {
          "output_type": "stream",
          "name": "stderr",
          "text": [
            "100%|██████████| 4800/4800 [00:08<00:00, 581.05it/s]\n"
          ]
        },
        {
          "output_type": "stream",
          "name": "stdout",
          "text": [
            "Path data/construction/images/val does not exist\n",
            "Path data/construction/labels/val does not exist\n"
          ]
        },
        {
          "output_type": "stream",
          "name": "stderr",
          "text": [
            "100%|██████████| 1200/1200 [00:01<00:00, 855.69it/s]\n",
            "100%|██████████| 800/800 [00:00<00:00, 2982.43it/s]\n",
            "100%|██████████| 200/200 [00:00<00:00, 3348.61it/s]\n"
          ]
        }
      ]
    },
    {
      "cell_type": "markdown",
      "metadata": {
        "id": "QKAjJyOZKY6M"
      },
      "source": [
        "## Create YAML file for dataset configuration"
      ]
    },
    {
      "cell_type": "code",
      "metadata": {
        "id": "0Oaa-9FcIcsU"
      },
      "source": [
        "import yaml\n",
        "\n",
        "data_config_dict = {\n",
        "    'train': IMG_DIR + 'train',\n",
        "    'val': IMG_DIR + 'val',\n",
        "    'nc': f'{len(classes)}',\n",
        "    'names': classes\n",
        "}\n",
        "\n",
        "with open('data/construction.yaml', 'w+') as f:\n",
        "    documents = yaml.dump(data_config_dict, f)"
      ],
      "execution_count": null,
      "outputs": []
    },
    {
      "cell_type": "markdown",
      "metadata": {
        "id": "ivm6_GmIN7BD"
      },
      "source": [
        "# Train"
      ]
    },
    {
      "cell_type": "markdown",
      "metadata": {
        "id": "Q0JTn92YN-ep"
      },
      "source": [
        "## Set visualization setting with W&B tool"
      ]
    },
    {
      "cell_type": "code",
      "metadata": {
        "colab": {
          "base_uri": "https://localhost:8080/"
        },
        "id": "Cqc8cKfcLDEb",
        "outputId": "87749f00-e609-42d2-8ffe-9ec9a682cc37"
      },
      "source": [
        "# Weights & Biases  (optional)\n",
        "%pip install -q wandb\n",
        "import wandb"
      ],
      "execution_count": null,
      "outputs": [
        {
          "output_type": "stream",
          "name": "stdout",
          "text": [
            "\u001b[K     |████████████████████████████████| 1.7 MB 4.2 MB/s \n",
            "\u001b[K     |████████████████████████████████| 140 kB 85.1 MB/s \n",
            "\u001b[K     |████████████████████████████████| 97 kB 9.5 MB/s \n",
            "\u001b[K     |████████████████████████████████| 180 kB 75.3 MB/s \n",
            "\u001b[K     |████████████████████████████████| 63 kB 2.2 MB/s \n",
            "\u001b[?25h  Building wheel for subprocess32 (setup.py) ... \u001b[?25l\u001b[?25hdone\n",
            "  Building wheel for pathtools (setup.py) ... \u001b[?25l\u001b[?25hdone\n"
          ]
        }
      ]
    },
    {
      "cell_type": "code",
      "metadata": {
        "colab": {
          "base_uri": "https://localhost:8080/",
          "height": 69
        },
        "id": "AB-zuVeJTfu4",
        "outputId": "68b1a664-1364-4758-add0-edfd6be66c88"
      },
      "source": [
        "wandb.login()"
      ],
      "execution_count": null,
      "outputs": [
        {
          "output_type": "display_data",
          "data": {
            "application/javascript": [
              "\n",
              "        window._wandbApiKey = new Promise((resolve, reject) => {\n",
              "            function loadScript(url) {\n",
              "            return new Promise(function(resolve, reject) {\n",
              "                let newScript = document.createElement(\"script\");\n",
              "                newScript.onerror = reject;\n",
              "                newScript.onload = resolve;\n",
              "                document.body.appendChild(newScript);\n",
              "                newScript.src = url;\n",
              "            });\n",
              "            }\n",
              "            loadScript(\"https://cdn.jsdelivr.net/npm/postmate/build/postmate.min.js\").then(() => {\n",
              "            const iframe = document.createElement('iframe')\n",
              "            iframe.style.cssText = \"width:0;height:0;border:none\"\n",
              "            document.body.appendChild(iframe)\n",
              "            const handshake = new Postmate({\n",
              "                container: iframe,\n",
              "                url: 'https://wandb.ai/authorize'\n",
              "            });\n",
              "            const timeout = setTimeout(() => reject(\"Couldn't auto authenticate\"), 5000)\n",
              "            handshake.then(function(child) {\n",
              "                child.on('authorize', data => {\n",
              "                    clearTimeout(timeout)\n",
              "                    resolve(data)\n",
              "                });\n",
              "            });\n",
              "            })\n",
              "        });\n",
              "    "
            ],
            "text/plain": [
              "<IPython.core.display.Javascript object>"
            ]
          },
          "metadata": {}
        },
        {
          "output_type": "stream",
          "name": "stderr",
          "text": [
            "\u001b[34m\u001b[1mwandb\u001b[0m: Appending key for api.wandb.ai to your netrc file: /root/.netrc\n"
          ]
        },
        {
          "output_type": "execute_result",
          "data": {
            "text/plain": [
              "True"
            ]
          },
          "metadata": {},
          "execution_count": 19
        }
      ]
    },
    {
      "cell_type": "markdown",
      "metadata": {
        "id": "jy1-iqX4OGyL"
      },
      "source": [
        "## Train with construction equipments"
      ]
    },
    {
      "cell_type": "code",
      "metadata": {
        "colab": {
          "base_uri": "https://localhost:8080/"
        },
        "id": "avBGrbW4OKSR",
        "outputId": "5cd6fffa-4b23-4a1b-a215-3cbd18b5c6b6"
      },
      "source": [
        "# YOLO v5s\n",
        "!python train.py --hyp hyp.finetune.yaml --img 416 --batch 32 --epochs 80 --data data/construction.yaml --cfg models/yolov5s.yaml --weights yolov5s.pt --name yolo5s_construction_human"
      ],
      "execution_count": null,
      "outputs": [
        {
          "output_type": "stream",
          "name": "stdout",
          "text": [
            "Downloading https://ultralytics.com/assets/Arial.ttf to /root/.config/Ultralytics/Arial.ttf...\n",
            "\u001b[34m\u001b[1mwandb\u001b[0m: Currently logged in as: \u001b[33mhyob\u001b[0m (use `wandb login --relogin` to force relogin)\n",
            "\u001b[34m\u001b[1mtrain: \u001b[0mweights=yolov5s.pt, cfg=models/yolov5s.yaml, data=data/construction.yaml, hyp=hyp.finetune.yaml, epochs=80, batch_size=32, imgsz=416, rect=False, resume=False, nosave=False, noval=False, noautoanchor=False, evolve=None, bucket=, cache=None, image_weights=False, device=, multi_scale=False, single_cls=False, adam=False, sync_bn=False, workers=8, project=runs/train, name=yolo5s_construction_human, exist_ok=False, quad=False, linear_lr=False, label_smoothing=0.0, patience=100, freeze=0, save_period=-1, local_rank=-1, entity=None, upload_dataset=False, bbox_interval=-1, artifact_alias=latest\n",
            "\u001b[34m\u001b[1mgithub: \u001b[0mup to date with https://github.com/ultralytics/yolov5 ✅\n",
            "YOLOv5 🚀 v6.0-139-g8f35436 torch 1.10.0+cu111 CUDA:0 (Tesla P100-PCIE-16GB, 16281MiB)\n",
            "\n",
            "\u001b[34m\u001b[1mhyperparameters: \u001b[0mlr0=0.0032, lrf=0.12, momentum=0.843, weight_decay=0.00036, warmup_epochs=2.0, warmup_momentum=0.5, warmup_bias_lr=0.05, box=0.0296, cls=0.243, cls_pw=0.631, obj=0.301, obj_pw=0.911, iou_t=0.2, anchor_t=2.91, fl_gamma=0.0, hsv_h=0.0138, hsv_s=0.664, hsv_v=0.464, degrees=0.373, translate=0.245, scale=0.898, shear=0.602, perspective=0.0, flipud=0.00856, fliplr=0.5, mosaic=1.0, mixup=0.243, copy_paste=0.0\n",
            "\u001b[34m\u001b[1mTensorBoard: \u001b[0mStart with 'tensorboard --logdir runs/train', view at http://localhost:6006/\n",
            "\u001b[34m\u001b[1mwandb\u001b[0m: Tracking run with wandb version 0.12.7\n",
            "\u001b[34m\u001b[1mwandb\u001b[0m: Syncing run \u001b[33myolo5s_construction_human\u001b[0m\n",
            "\u001b[34m\u001b[1mwandb\u001b[0m: ⭐️ View project at \u001b[34m\u001b[4mhttps://wandb.ai/hyob/YOLOv5\u001b[0m\n",
            "\u001b[34m\u001b[1mwandb\u001b[0m: 🚀 View run at \u001b[34m\u001b[4mhttps://wandb.ai/hyob/YOLOv5/runs/3ara7qbs\u001b[0m\n",
            "\u001b[34m\u001b[1mwandb\u001b[0m: Run data is saved locally in /content/yolov5/wandb/run-20211212_040759-3ara7qbs\n",
            "\u001b[34m\u001b[1mwandb\u001b[0m: Run `wandb offline` to turn off syncing.\n",
            "\n",
            "Downloading https://github.com/ultralytics/yolov5/releases/download/v6.0/yolov5s.pt to yolov5s.pt...\n",
            "100% 14.0M/14.0M [00:02<00:00, 6.47MB/s]\n",
            "\n",
            "Overriding model.yaml nc=80 with nc=11\n",
            "\n",
            "                 from  n    params  module                                  arguments                     \n",
            "  0                -1  1      3520  models.common.Conv                      [3, 32, 6, 2, 2]              \n",
            "  1                -1  1     18560  models.common.Conv                      [32, 64, 3, 2]                \n",
            "  2                -1  1     18816  models.common.C3                        [64, 64, 1]                   \n",
            "  3                -1  1     73984  models.common.Conv                      [64, 128, 3, 2]               \n",
            "  4                -1  2    115712  models.common.C3                        [128, 128, 2]                 \n",
            "  5                -1  1    295424  models.common.Conv                      [128, 256, 3, 2]              \n",
            "  6                -1  3    625152  models.common.C3                        [256, 256, 3]                 \n",
            "  7                -1  1   1180672  models.common.Conv                      [256, 512, 3, 2]              \n",
            "  8                -1  1   1182720  models.common.C3                        [512, 512, 1]                 \n",
            "  9                -1  1    656896  models.common.SPPF                      [512, 512, 5]                 \n",
            " 10                -1  1    131584  models.common.Conv                      [512, 256, 1, 1]              \n",
            " 11                -1  1         0  torch.nn.modules.upsampling.Upsample    [None, 2, 'nearest']          \n",
            " 12           [-1, 6]  1         0  models.common.Concat                    [1]                           \n",
            " 13                -1  1    361984  models.common.C3                        [512, 256, 1, False]          \n",
            " 14                -1  1     33024  models.common.Conv                      [256, 128, 1, 1]              \n",
            " 15                -1  1         0  torch.nn.modules.upsampling.Upsample    [None, 2, 'nearest']          \n",
            " 16           [-1, 4]  1         0  models.common.Concat                    [1]                           \n",
            " 17                -1  1     90880  models.common.C3                        [256, 128, 1, False]          \n",
            " 18                -1  1    147712  models.common.Conv                      [128, 128, 3, 2]              \n",
            " 19          [-1, 14]  1         0  models.common.Concat                    [1]                           \n",
            " 20                -1  1    296448  models.common.C3                        [256, 256, 1, False]          \n",
            " 21                -1  1    590336  models.common.Conv                      [256, 256, 3, 2]              \n",
            " 22          [-1, 10]  1         0  models.common.Concat                    [1]                           \n",
            " 23                -1  1   1182720  models.common.C3                        [512, 512, 1, False]          \n",
            " 24      [17, 20, 23]  1     43152  models.yolo.Detect                      [11, [[10, 13, 16, 30, 33, 23], [30, 61, 62, 45, 59, 119], [116, 90, 156, 198, 373, 326]], [128, 256, 512]]\n",
            "Model Summary: 270 layers, 7049296 parameters, 7049296 gradients, 15.9 GFLOPs\n",
            "\n",
            "Transferred 342/349 items from yolov5s.pt\n",
            "Scaled weight_decay = 0.00036\n",
            "\u001b[34m\u001b[1moptimizer:\u001b[0m SGD with parameter groups 57 weight, 60 weight (no decay), 60 bias\n",
            "\u001b[34m\u001b[1malbumentations: \u001b[0mversion 1.0.3 required by YOLOv5, but version 0.1.12 is currently installed\n",
            "\u001b[34m\u001b[1mtrain: \u001b[0mScanning 'data/construction/labels/train' images and labels...5600 found, 0 missing, 0 empty, 0 corrupted: 100% 5600/5600 [00:01<00:00, 5128.97it/s]\n",
            "\u001b[34m\u001b[1mtrain: \u001b[0mNew cache created: data/construction/labels/train.cache\n",
            "\u001b[34m\u001b[1mval: \u001b[0mScanning 'data/construction/labels/val' images and labels...1400 found, 0 missing, 0 empty, 0 corrupted: 100% 1400/1400 [00:00<00:00, 1595.66it/s]\n",
            "\u001b[34m\u001b[1mval: \u001b[0mNew cache created: data/construction/labels/val.cache\n",
            "Plotting labels to runs/train/yolo5s_construction_human/labels.jpg... \n",
            "\n",
            "\u001b[34m\u001b[1mAutoAnchor: \u001b[0m3.42 anchors/target, 0.999 Best Possible Recall (BPR). Current anchors are a good fit to dataset ✅\n",
            "Image sizes 416 train, 416 val\n",
            "Using 4 dataloader workers\n",
            "Logging results to \u001b[1mruns/train/yolo5s_construction_human\u001b[0m\n",
            "Starting training for 80 epochs...\n",
            "\n",
            "     Epoch   gpu_mem       box       obj       cls    labels  img_size\n",
            "      0/79     2.94G   0.05922  0.008025   0.02392       122       416: 100% 175/175 [02:59<00:00,  1.02s/it]\n",
            "               Class     Images     Labels          P          R     mAP@.5 mAP@.5:.95: 100% 22/22 [00:15<00:00,  1.41it/s]\n",
            "                 all       1400       2107    0.00535       0.32    0.00452    0.00104\n",
            "\n",
            "     Epoch   gpu_mem       box       obj       cls    labels  img_size\n",
            "      1/79     4.16G   0.04199  0.009112   0.02226       126       416: 100% 175/175 [02:55<00:00,  1.00s/it]\n",
            "               Class     Images     Labels          P          R     mAP@.5 mAP@.5:.95: 100% 22/22 [00:15<00:00,  1.39it/s]\n",
            "                 all       1400       2107     0.0891       0.32     0.0797     0.0406\n",
            "\n",
            "     Epoch   gpu_mem       box       obj       cls    labels  img_size\n",
            "      2/79     4.16G   0.03313  0.008341   0.02126       123       416: 100% 175/175 [02:59<00:00,  1.02s/it]\n",
            "               Class     Images     Labels          P          R     mAP@.5 mAP@.5:.95: 100% 22/22 [00:13<00:00,  1.60it/s]\n",
            "                 all       1400       2107       0.24      0.453       0.15      0.071\n",
            "\n",
            "     Epoch   gpu_mem       box       obj       cls    labels  img_size\n",
            "      3/79     4.16G   0.03137  0.007503   0.02065       127       416: 100% 175/175 [02:56<00:00,  1.01s/it]\n",
            "               Class     Images     Labels          P          R     mAP@.5 mAP@.5:.95: 100% 22/22 [00:15<00:00,  1.45it/s]\n",
            "                 all       1400       2107       0.24      0.452      0.174     0.0992\n",
            "\n",
            "     Epoch   gpu_mem       box       obj       cls    labels  img_size\n",
            "      4/79     4.16G   0.02907  0.006962    0.0199       151       416: 100% 175/175 [02:51<00:00,  1.02it/s]\n",
            "               Class     Images     Labels          P          R     mAP@.5 mAP@.5:.95: 100% 22/22 [00:15<00:00,  1.42it/s]\n",
            "                 all       1400       2107      0.225      0.519      0.187      0.115\n",
            "\n",
            "     Epoch   gpu_mem       box       obj       cls    labels  img_size\n",
            "      5/79     4.16G   0.02731  0.006464   0.01933       132       416: 100% 175/175 [02:57<00:00,  1.01s/it]\n",
            "               Class     Images     Labels          P          R     mAP@.5 mAP@.5:.95: 100% 22/22 [00:15<00:00,  1.39it/s]\n",
            "                 all       1400       2107      0.229        0.5      0.213      0.138\n",
            "\n",
            "     Epoch   gpu_mem       box       obj       cls    labels  img_size\n",
            "      6/79     4.16G   0.02559  0.005921   0.01871       140       416: 100% 175/175 [02:55<00:00,  1.00s/it]\n",
            "               Class     Images     Labels          P          R     mAP@.5 mAP@.5:.95: 100% 22/22 [00:13<00:00,  1.68it/s]\n",
            "                 all       1400       2107      0.255       0.49      0.251      0.171\n",
            "\n",
            "     Epoch   gpu_mem       box       obj       cls    labels  img_size\n",
            "      7/79     4.16G   0.02456  0.005661   0.01808       146       416: 100% 175/175 [02:51<00:00,  1.02it/s]\n",
            "               Class     Images     Labels          P          R     mAP@.5 mAP@.5:.95: 100% 22/22 [00:15<00:00,  1.40it/s]\n",
            "                 all       1400       2107      0.256      0.498      0.275      0.185\n",
            "\n",
            "     Epoch   gpu_mem       box       obj       cls    labels  img_size\n",
            "      8/79     4.16G   0.02387  0.005498   0.01749       131       416: 100% 175/175 [02:55<00:00,  1.00s/it]\n",
            "               Class     Images     Labels          P          R     mAP@.5 mAP@.5:.95: 100% 22/22 [00:15<00:00,  1.47it/s]\n",
            "                 all       1400       2107      0.257       0.58      0.309      0.216\n",
            "\n",
            "     Epoch   gpu_mem       box       obj       cls    labels  img_size\n",
            "      9/79     4.16G    0.0235  0.005417   0.01684       131       416: 100% 175/175 [02:59<00:00,  1.02s/it]\n",
            "               Class     Images     Labels          P          R     mAP@.5 mAP@.5:.95: 100% 22/22 [00:12<00:00,  1.71it/s]\n",
            "                 all       1400       2107      0.302      0.584       0.34      0.239\n",
            "\n",
            "     Epoch   gpu_mem       box       obj       cls    labels  img_size\n",
            "     10/79     4.16G   0.02323  0.005273   0.01618       133       416: 100% 175/175 [02:56<00:00,  1.01s/it]\n",
            "               Class     Images     Labels          P          R     mAP@.5 mAP@.5:.95: 100% 22/22 [00:14<00:00,  1.55it/s]\n",
            "                 all       1400       2107      0.302      0.628      0.372      0.265\n",
            "\n",
            "     Epoch   gpu_mem       box       obj       cls    labels  img_size\n",
            "     11/79     4.16G   0.02261  0.005225   0.01545       128       416: 100% 175/175 [02:54<00:00,  1.00it/s]\n",
            "               Class     Images     Labels          P          R     mAP@.5 mAP@.5:.95: 100% 22/22 [00:15<00:00,  1.39it/s]\n",
            "                 all       1400       2107      0.457      0.541      0.407      0.288\n",
            "\n",
            "     Epoch   gpu_mem       box       obj       cls    labels  img_size\n",
            "     12/79     4.16G   0.02236  0.005157   0.01514       120       416: 100% 175/175 [02:56<00:00,  1.01s/it]\n",
            "               Class     Images     Labels          P          R     mAP@.5 mAP@.5:.95: 100% 22/22 [00:15<00:00,  1.43it/s]\n",
            "                 all       1400       2107      0.381      0.628      0.463      0.331\n",
            "\n",
            "     Epoch   gpu_mem       box       obj       cls    labels  img_size\n",
            "     13/79     4.16G   0.02208  0.005201   0.01473       131       416: 100% 175/175 [02:56<00:00,  1.01s/it]\n",
            "               Class     Images     Labels          P          R     mAP@.5 mAP@.5:.95: 100% 22/22 [00:15<00:00,  1.42it/s]\n",
            "                 all       1400       2107       0.39      0.663      0.511      0.367\n",
            "\n",
            "     Epoch   gpu_mem       box       obj       cls    labels  img_size\n",
            "     14/79     4.16G   0.02186   0.00509    0.0144       149       416: 100% 175/175 [02:55<00:00,  1.00s/it]\n",
            "               Class     Images     Labels          P          R     mAP@.5 mAP@.5:.95: 100% 22/22 [00:14<00:00,  1.57it/s]\n",
            "                 all       1400       2107       0.52      0.631      0.546       0.39\n",
            "\n",
            "     Epoch   gpu_mem       box       obj       cls    labels  img_size\n",
            "     15/79     4.16G   0.02193  0.005066   0.01401       129       416: 100% 175/175 [02:58<00:00,  1.02s/it]\n",
            "               Class     Images     Labels          P          R     mAP@.5 mAP@.5:.95: 100% 22/22 [00:14<00:00,  1.51it/s]\n",
            "                 all       1400       2107      0.558      0.628      0.575      0.409\n",
            "\n",
            "     Epoch   gpu_mem       box       obj       cls    labels  img_size\n",
            "     16/79     4.16G   0.02157  0.005078   0.01375       131       416: 100% 175/175 [02:57<00:00,  1.01s/it]\n",
            "               Class     Images     Labels          P          R     mAP@.5 mAP@.5:.95: 100% 22/22 [00:14<00:00,  1.50it/s]\n",
            "                 all       1400       2107      0.537      0.652      0.616      0.442\n",
            "\n",
            "     Epoch   gpu_mem       box       obj       cls    labels  img_size\n",
            "     17/79     4.16G   0.02143  0.004961   0.01337       140       416: 100% 175/175 [02:55<00:00,  1.00s/it]\n",
            "               Class     Images     Labels          P          R     mAP@.5 mAP@.5:.95: 100% 22/22 [00:15<00:00,  1.44it/s]\n",
            "                 all       1400       2107      0.628      0.624      0.648      0.462\n",
            "\n",
            "     Epoch   gpu_mem       box       obj       cls    labels  img_size\n",
            "     18/79     4.16G   0.02135  0.004917   0.01304       124       416: 100% 175/175 [02:55<00:00,  1.00s/it]\n",
            "               Class     Images     Labels          P          R     mAP@.5 mAP@.5:.95: 100% 22/22 [00:13<00:00,  1.58it/s]\n",
            "                 all       1400       2107      0.632      0.635      0.684      0.491\n",
            "\n",
            "     Epoch   gpu_mem       box       obj       cls    labels  img_size\n",
            "     19/79     4.16G    0.0214  0.004769   0.01273       117       416: 100% 175/175 [02:52<00:00,  1.02it/s]\n",
            "               Class     Images     Labels          P          R     mAP@.5 mAP@.5:.95: 100% 22/22 [00:14<00:00,  1.51it/s]\n",
            "                 all       1400       2107      0.622      0.702       0.72      0.523\n",
            "\n",
            "     Epoch   gpu_mem       box       obj       cls    labels  img_size\n",
            "     20/79     4.16G   0.02112  0.004879    0.0124       123       416: 100% 175/175 [02:52<00:00,  1.01it/s]\n",
            "               Class     Images     Labels          P          R     mAP@.5 mAP@.5:.95: 100% 22/22 [00:14<00:00,  1.56it/s]\n",
            "                 all       1400       2107      0.683      0.683      0.749      0.547\n",
            "\n",
            "     Epoch   gpu_mem       box       obj       cls    labels  img_size\n",
            "     21/79     4.16G   0.02113  0.004859   0.01192       101       416: 100% 175/175 [02:55<00:00,  1.00s/it]\n",
            "               Class     Images     Labels          P          R     mAP@.5 mAP@.5:.95: 100% 22/22 [00:13<00:00,  1.61it/s]\n",
            "                 all       1400       2107      0.703      0.731      0.781      0.576\n",
            "\n",
            "     Epoch   gpu_mem       box       obj       cls    labels  img_size\n",
            "     22/79     4.16G     0.021  0.004871   0.01179       113       416: 100% 175/175 [02:56<00:00,  1.01s/it]\n",
            "               Class     Images     Labels          P          R     mAP@.5 mAP@.5:.95: 100% 22/22 [00:13<00:00,  1.66it/s]\n",
            "                 all       1400       2107      0.797      0.713      0.803      0.584\n",
            "\n",
            "     Epoch   gpu_mem       box       obj       cls    labels  img_size\n",
            "     23/79     4.16G   0.02077  0.004835    0.0113       130       416: 100% 175/175 [02:54<00:00,  1.00it/s]\n",
            "               Class     Images     Labels          P          R     mAP@.5 mAP@.5:.95: 100% 22/22 [00:16<00:00,  1.34it/s]\n",
            "                 all       1400       2107       0.79       0.75      0.823       0.61\n",
            "\n",
            "     Epoch   gpu_mem       box       obj       cls    labels  img_size\n",
            "     24/79     4.16G   0.02108  0.004852   0.01127       145       416: 100% 175/175 [02:56<00:00,  1.01s/it]\n",
            "               Class     Images     Labels          P          R     mAP@.5 mAP@.5:.95: 100% 22/22 [00:14<00:00,  1.56it/s]\n",
            "                 all       1400       2107      0.822      0.746      0.828      0.612\n",
            "\n",
            "     Epoch   gpu_mem       box       obj       cls    labels  img_size\n",
            "     25/79     4.16G   0.02076  0.004829   0.01094       135       416: 100% 175/175 [02:58<00:00,  1.02s/it]\n",
            "               Class     Images     Labels          P          R     mAP@.5 mAP@.5:.95: 100% 22/22 [00:15<00:00,  1.40it/s]\n",
            "                 all       1400       2107      0.834      0.771      0.846      0.624\n",
            "\n",
            "     Epoch   gpu_mem       box       obj       cls    labels  img_size\n",
            "     26/79     4.16G   0.02056  0.004775   0.01048       144       416: 100% 175/175 [02:59<00:00,  1.03s/it]\n",
            "               Class     Images     Labels          P          R     mAP@.5 mAP@.5:.95: 100% 22/22 [00:16<00:00,  1.30it/s]\n",
            "                 all       1400       2107      0.843       0.78      0.847      0.618\n",
            "\n",
            "     Epoch   gpu_mem       box       obj       cls    labels  img_size\n",
            "     27/79     4.16G   0.02071  0.004728   0.01022       110       416: 100% 175/175 [03:00<00:00,  1.03s/it]\n",
            "               Class     Images     Labels          P          R     mAP@.5 mAP@.5:.95: 100% 22/22 [00:13<00:00,  1.59it/s]\n",
            "                 all       1400       2107      0.895      0.754      0.856      0.636\n",
            "\n",
            "     Epoch   gpu_mem       box       obj       cls    labels  img_size\n",
            "     28/79     4.16G   0.02026  0.004772   0.01009       105       416: 100% 175/175 [02:59<00:00,  1.03s/it]\n",
            "               Class     Images     Labels          P          R     mAP@.5 mAP@.5:.95: 100% 22/22 [00:14<00:00,  1.56it/s]\n",
            "                 all       1400       2107      0.873      0.784      0.866      0.641\n",
            "\n",
            "     Epoch   gpu_mem       box       obj       cls    labels  img_size\n",
            "     29/79     4.16G   0.02042  0.004736  0.009642       138       416: 100% 175/175 [03:00<00:00,  1.03s/it]\n",
            "               Class     Images     Labels          P          R     mAP@.5 mAP@.5:.95: 100% 22/22 [00:14<00:00,  1.52it/s]\n",
            "                 all       1400       2107      0.886      0.782      0.871      0.645\n",
            "\n",
            "     Epoch   gpu_mem       box       obj       cls    labels  img_size\n",
            "     30/79     4.16G   0.02012   0.00464  0.009459       137       416: 100% 175/175 [03:00<00:00,  1.03s/it]\n",
            "               Class     Images     Labels          P          R     mAP@.5 mAP@.5:.95: 100% 22/22 [00:15<00:00,  1.44it/s]\n",
            "                 all       1400       2107      0.893      0.785      0.876      0.647\n",
            "\n",
            "     Epoch   gpu_mem       box       obj       cls    labels  img_size\n",
            "     31/79     4.16G   0.02019  0.004649  0.009295       161       416: 100% 175/175 [02:57<00:00,  1.01s/it]\n",
            "               Class     Images     Labels          P          R     mAP@.5 mAP@.5:.95: 100% 22/22 [00:16<00:00,  1.33it/s]\n",
            "                 all       1400       2107      0.866       0.81      0.879      0.656\n",
            "\n",
            "     Epoch   gpu_mem       box       obj       cls    labels  img_size\n",
            "     32/79     4.16G   0.02012  0.004723  0.009142       107       416: 100% 175/175 [03:02<00:00,  1.04s/it]\n",
            "               Class     Images     Labels          P          R     mAP@.5 mAP@.5:.95: 100% 22/22 [00:16<00:00,  1.33it/s]\n",
            "                 all       1400       2107      0.859      0.822      0.882      0.661\n",
            "\n",
            "     Epoch   gpu_mem       box       obj       cls    labels  img_size\n",
            "     33/79     4.16G   0.01997    0.0048  0.008848       165       416: 100% 175/175 [03:12<00:00,  1.10s/it]\n",
            "               Class     Images     Labels          P          R     mAP@.5 mAP@.5:.95: 100% 22/22 [00:15<00:00,  1.45it/s]\n",
            "                 all       1400       2107      0.884      0.799      0.885      0.665\n",
            "\n",
            "     Epoch   gpu_mem       box       obj       cls    labels  img_size\n",
            "     34/79     4.16G   0.02004  0.004671  0.008692       113       416: 100% 175/175 [03:07<00:00,  1.07s/it]\n",
            "               Class     Images     Labels          P          R     mAP@.5 mAP@.5:.95: 100% 22/22 [00:14<00:00,  1.53it/s]\n",
            "                 all       1400       2107      0.893      0.804      0.889      0.667\n",
            "\n",
            "     Epoch   gpu_mem       box       obj       cls    labels  img_size\n",
            "     35/79     4.16G   0.01987  0.004709  0.008497       110       416: 100% 175/175 [03:08<00:00,  1.08s/it]\n",
            "               Class     Images     Labels          P          R     mAP@.5 mAP@.5:.95: 100% 22/22 [00:14<00:00,  1.50it/s]\n",
            "                 all       1400       2107        0.9      0.792      0.888      0.671\n",
            "\n",
            "     Epoch   gpu_mem       box       obj       cls    labels  img_size\n",
            "     36/79     4.16G   0.01974  0.004628  0.008225       140       416: 100% 175/175 [03:05<00:00,  1.06s/it]\n",
            "               Class     Images     Labels          P          R     mAP@.5 mAP@.5:.95: 100% 22/22 [00:15<00:00,  1.43it/s]\n",
            "                 all       1400       2107        0.9      0.797      0.889      0.676\n",
            "\n",
            "     Epoch   gpu_mem       box       obj       cls    labels  img_size\n",
            "     37/79     4.16G   0.01973  0.004604  0.008057       113       416: 100% 175/175 [03:05<00:00,  1.06s/it]\n",
            "               Class     Images     Labels          P          R     mAP@.5 mAP@.5:.95: 100% 22/22 [00:14<00:00,  1.53it/s]\n",
            "                 all       1400       2107      0.893       0.79      0.885       0.67\n",
            "\n",
            "     Epoch   gpu_mem       box       obj       cls    labels  img_size\n",
            "     38/79     4.16G   0.01959  0.004602   0.00815       147       416: 100% 175/175 [03:06<00:00,  1.06s/it]\n",
            "               Class     Images     Labels          P          R     mAP@.5 mAP@.5:.95: 100% 22/22 [00:14<00:00,  1.48it/s]\n",
            "                 all       1400       2107      0.899      0.806      0.892      0.676\n",
            "\n",
            "     Epoch   gpu_mem       box       obj       cls    labels  img_size\n",
            "     39/79     4.16G   0.01952  0.004628   0.00806       147       416: 100% 175/175 [03:09<00:00,  1.08s/it]\n",
            "               Class     Images     Labels          P          R     mAP@.5 mAP@.5:.95: 100% 22/22 [00:13<00:00,  1.58it/s]\n",
            "                 all       1400       2107       0.88      0.821      0.896      0.678\n",
            "\n",
            "     Epoch   gpu_mem       box       obj       cls    labels  img_size\n",
            "     40/79     4.16G   0.01953  0.004604  0.007926       140       416: 100% 175/175 [03:06<00:00,  1.06s/it]\n",
            "               Class     Images     Labels          P          R     mAP@.5 mAP@.5:.95: 100% 22/22 [00:16<00:00,  1.33it/s]\n",
            "                 all       1400       2107      0.907      0.794      0.893      0.674\n",
            "\n",
            "     Epoch   gpu_mem       box       obj       cls    labels  img_size\n",
            "     41/79     4.16G   0.01922  0.004639  0.007652       130       416: 100% 175/175 [03:10<00:00,  1.09s/it]\n",
            "               Class     Images     Labels          P          R     mAP@.5 mAP@.5:.95: 100% 22/22 [00:15<00:00,  1.39it/s]\n",
            "                 all       1400       2107      0.885      0.813      0.896      0.682\n",
            "\n",
            "     Epoch   gpu_mem       box       obj       cls    labels  img_size\n",
            "     42/79     4.16G   0.01913  0.004615  0.007758        97       416: 100% 175/175 [03:09<00:00,  1.08s/it]\n",
            "               Class     Images     Labels          P          R     mAP@.5 mAP@.5:.95: 100% 22/22 [00:15<00:00,  1.38it/s]\n",
            "                 all       1400       2107      0.905      0.813      0.894       0.68\n",
            "\n",
            "     Epoch   gpu_mem       box       obj       cls    labels  img_size\n",
            "     43/79     4.16G   0.01916   0.00456  0.007796       158       416: 100% 175/175 [03:07<00:00,  1.07s/it]\n",
            "               Class     Images     Labels          P          R     mAP@.5 mAP@.5:.95: 100% 22/22 [00:16<00:00,  1.32it/s]\n",
            "                 all       1400       2107      0.875      0.832      0.895      0.679\n",
            "\n",
            "     Epoch   gpu_mem       box       obj       cls    labels  img_size\n",
            "     44/79     4.16G   0.01915  0.004617  0.007511       141       416: 100% 175/175 [03:08<00:00,  1.08s/it]\n",
            "               Class     Images     Labels          P          R     mAP@.5 mAP@.5:.95: 100% 22/22 [00:13<00:00,  1.60it/s]\n",
            "                 all       1400       2107      0.878      0.837      0.896       0.68\n",
            "\n",
            "     Epoch   gpu_mem       box       obj       cls    labels  img_size\n",
            "     45/79     4.16G   0.01904  0.004618  0.007475       146       416: 100% 175/175 [03:09<00:00,  1.08s/it]\n",
            "               Class     Images     Labels          P          R     mAP@.5 mAP@.5:.95: 100% 22/22 [00:14<00:00,  1.49it/s]\n",
            "                 all       1400       2107      0.902      0.825      0.896      0.685\n",
            "\n",
            "     Epoch   gpu_mem       box       obj       cls    labels  img_size\n",
            "     46/79     4.16G   0.01888  0.004534  0.007307       135       416: 100% 175/175 [03:04<00:00,  1.06s/it]\n",
            "               Class     Images     Labels          P          R     mAP@.5 mAP@.5:.95: 100% 22/22 [00:15<00:00,  1.45it/s]\n",
            "                 all       1400       2107      0.906      0.821      0.895      0.682\n",
            "\n",
            "     Epoch   gpu_mem       box       obj       cls    labels  img_size\n",
            "     47/79     4.16G   0.01904  0.004592  0.007447       136       416: 100% 175/175 [03:10<00:00,  1.09s/it]\n",
            "               Class     Images     Labels          P          R     mAP@.5 mAP@.5:.95: 100% 22/22 [00:13<00:00,  1.58it/s]\n",
            "                 all       1400       2107      0.915      0.809      0.896      0.687\n",
            "\n",
            "     Epoch   gpu_mem       box       obj       cls    labels  img_size\n",
            "     48/79     4.16G   0.01873  0.004482  0.007291       159       416: 100% 175/175 [03:04<00:00,  1.06s/it]\n",
            "               Class     Images     Labels          P          R     mAP@.5 mAP@.5:.95: 100% 22/22 [00:16<00:00,  1.37it/s]\n",
            "                 all       1400       2107      0.892      0.824      0.899      0.688\n",
            "\n",
            "     Epoch   gpu_mem       box       obj       cls    labels  img_size\n",
            "     49/79     4.16G   0.01868  0.004484  0.007194       142       416: 100% 175/175 [03:08<00:00,  1.08s/it]\n",
            "               Class     Images     Labels          P          R     mAP@.5 mAP@.5:.95: 100% 22/22 [00:14<00:00,  1.53it/s]\n",
            "                 all       1400       2107      0.902      0.814      0.898      0.689\n",
            "\n",
            "     Epoch   gpu_mem       box       obj       cls    labels  img_size\n",
            "     50/79     4.16G   0.01856  0.004478  0.007111       129       416: 100% 175/175 [03:04<00:00,  1.05s/it]\n",
            "               Class     Images     Labels          P          R     mAP@.5 mAP@.5:.95: 100% 22/22 [00:15<00:00,  1.38it/s]\n",
            "                 all       1400       2107        0.9      0.818      0.898       0.69\n",
            "\n",
            "     Epoch   gpu_mem       box       obj       cls    labels  img_size\n",
            "     51/79     4.16G   0.01846  0.004491  0.007047       184       416: 100% 175/175 [03:00<00:00,  1.03s/it]\n",
            "               Class     Images     Labels          P          R     mAP@.5 mAP@.5:.95: 100% 22/22 [00:15<00:00,  1.39it/s]\n",
            "                 all       1400       2107      0.899       0.82      0.903      0.692\n",
            "\n",
            "     Epoch   gpu_mem       box       obj       cls    labels  img_size\n",
            "     52/79     4.16G   0.01841  0.004486  0.006911       150       416: 100% 175/175 [03:01<00:00,  1.04s/it]\n",
            "               Class     Images     Labels          P          R     mAP@.5 mAP@.5:.95: 100% 22/22 [00:15<00:00,  1.39it/s]\n",
            "                 all       1400       2107      0.882      0.838      0.905      0.694\n",
            "\n",
            "     Epoch   gpu_mem       box       obj       cls    labels  img_size\n",
            "     53/79     4.16G   0.01847  0.004451  0.006972       141       416: 100% 175/175 [03:00<00:00,  1.03s/it]\n",
            "               Class     Images     Labels          P          R     mAP@.5 mAP@.5:.95: 100% 22/22 [00:14<00:00,  1.53it/s]\n",
            "                 all       1400       2107      0.865      0.846      0.901      0.696\n",
            "\n",
            "     Epoch   gpu_mem       box       obj       cls    labels  img_size\n",
            "     54/79     4.16G   0.01845  0.004434  0.006766       147       416: 100% 175/175 [03:01<00:00,  1.03s/it]\n",
            "               Class     Images     Labels          P          R     mAP@.5 mAP@.5:.95: 100% 22/22 [00:15<00:00,  1.41it/s]\n",
            "                 all       1400       2107      0.896      0.837      0.904      0.696\n",
            "\n",
            "     Epoch   gpu_mem       box       obj       cls    labels  img_size\n",
            "     55/79     4.16G   0.01827  0.004459  0.006806       163       416: 100% 175/175 [03:00<00:00,  1.03s/it]\n",
            "               Class     Images     Labels          P          R     mAP@.5 mAP@.5:.95: 100% 22/22 [00:14<00:00,  1.51it/s]\n",
            "                 all       1400       2107       0.88      0.843      0.907      0.696\n",
            "\n",
            "     Epoch   gpu_mem       box       obj       cls    labels  img_size\n",
            "     56/79     4.16G   0.01837   0.00448  0.006755       114       416: 100% 175/175 [03:03<00:00,  1.05s/it]\n",
            "               Class     Images     Labels          P          R     mAP@.5 mAP@.5:.95: 100% 22/22 [00:14<00:00,  1.54it/s]\n",
            "                 all       1400       2107      0.903      0.828      0.906      0.696\n",
            "\n",
            "     Epoch   gpu_mem       box       obj       cls    labels  img_size\n",
            "     57/79     4.16G   0.01823  0.004456  0.006799       151       416: 100% 175/175 [03:02<00:00,  1.04s/it]\n",
            "               Class     Images     Labels          P          R     mAP@.5 mAP@.5:.95: 100% 22/22 [00:14<00:00,  1.52it/s]\n",
            "                 all       1400       2107      0.872      0.851      0.907      0.697\n",
            "\n",
            "     Epoch   gpu_mem       box       obj       cls    labels  img_size\n",
            "     58/79     4.16G   0.01813  0.004478  0.006859       156       416: 100% 175/175 [03:02<00:00,  1.04s/it]\n",
            "               Class     Images     Labels          P          R     mAP@.5 mAP@.5:.95: 100% 22/22 [00:15<00:00,  1.45it/s]\n",
            "                 all       1400       2107      0.895      0.838      0.909      0.698\n",
            "\n",
            "     Epoch   gpu_mem       box       obj       cls    labels  img_size\n",
            "     59/79     4.16G   0.01822  0.004499  0.006652       142       416: 100% 175/175 [03:00<00:00,  1.03s/it]\n",
            "               Class     Images     Labels          P          R     mAP@.5 mAP@.5:.95: 100% 22/22 [00:15<00:00,  1.45it/s]\n",
            "                 all       1400       2107      0.895       0.84       0.91      0.701\n",
            "\n",
            "     Epoch   gpu_mem       box       obj       cls    labels  img_size\n",
            "     60/79     4.16G   0.01799  0.004402  0.006627       187       416: 100% 175/175 [03:03<00:00,  1.05s/it]\n",
            "               Class     Images     Labels          P          R     mAP@.5 mAP@.5:.95: 100% 22/22 [00:16<00:00,  1.37it/s]\n",
            "                 all       1400       2107      0.873      0.853      0.911      0.699\n",
            "\n",
            "     Epoch   gpu_mem       box       obj       cls    labels  img_size\n",
            "     61/79     4.16G   0.01807  0.004471   0.00649       128       416: 100% 175/175 [03:07<00:00,  1.07s/it]\n",
            "               Class     Images     Labels          P          R     mAP@.5 mAP@.5:.95: 100% 22/22 [00:16<00:00,  1.32it/s]\n",
            "                 all       1400       2107      0.894      0.844      0.909        0.7\n",
            "\n",
            "     Epoch   gpu_mem       box       obj       cls    labels  img_size\n",
            "     62/79     4.16G   0.01798  0.004453  0.006656       134       416: 100% 175/175 [03:07<00:00,  1.07s/it]\n",
            "               Class     Images     Labels          P          R     mAP@.5 mAP@.5:.95: 100% 22/22 [00:15<00:00,  1.42it/s]\n",
            "                 all       1400       2107      0.903      0.834      0.909      0.701\n",
            "\n",
            "     Epoch   gpu_mem       box       obj       cls    labels  img_size\n",
            "     63/79     4.16G   0.01818  0.004422  0.006597       118       416: 100% 175/175 [03:00<00:00,  1.03s/it]\n",
            "               Class     Images     Labels          P          R     mAP@.5 mAP@.5:.95: 100% 22/22 [00:16<00:00,  1.34it/s]\n",
            "                 all       1400       2107      0.906      0.833       0.91      0.701\n",
            "\n",
            "     Epoch   gpu_mem       box       obj       cls    labels  img_size\n",
            "     64/79     4.16G   0.01803  0.004371  0.006579       127       416: 100% 175/175 [03:02<00:00,  1.04s/it]\n",
            "               Class     Images     Labels          P          R     mAP@.5 mAP@.5:.95: 100% 22/22 [00:15<00:00,  1.44it/s]\n",
            "                 all       1400       2107      0.879      0.854      0.912      0.703\n",
            "\n",
            "     Epoch   gpu_mem       box       obj       cls    labels  img_size\n",
            "     65/79     4.16G   0.01785  0.004335  0.006417       121       416: 100% 175/175 [03:02<00:00,  1.04s/it]\n",
            "               Class     Images     Labels          P          R     mAP@.5 mAP@.5:.95: 100% 22/22 [00:14<00:00,  1.48it/s]\n",
            "                 all       1400       2107      0.893      0.838      0.908      0.703\n",
            "\n",
            "     Epoch   gpu_mem       box       obj       cls    labels  img_size\n",
            "     66/79     4.16G   0.01787  0.004474  0.006264       134       416: 100% 175/175 [03:05<00:00,  1.06s/it]\n",
            "               Class     Images     Labels          P          R     mAP@.5 mAP@.5:.95: 100% 22/22 [00:14<00:00,  1.49it/s]\n",
            "                 all       1400       2107      0.872       0.86      0.909      0.702\n",
            "\n",
            "     Epoch   gpu_mem       box       obj       cls    labels  img_size\n",
            "     67/79     4.16G   0.01785  0.004337  0.006463       155       416: 100% 175/175 [02:59<00:00,  1.03s/it]\n",
            "               Class     Images     Labels          P          R     mAP@.5 mAP@.5:.95: 100% 22/22 [00:16<00:00,  1.35it/s]\n",
            "                 all       1400       2107      0.901      0.842       0.91      0.704\n",
            "\n",
            "     Epoch   gpu_mem       box       obj       cls    labels  img_size\n",
            "     68/79     4.16G   0.01772  0.004371  0.006236       121       416: 100% 175/175 [02:58<00:00,  1.02s/it]\n",
            "               Class     Images     Labels          P          R     mAP@.5 mAP@.5:.95: 100% 22/22 [00:16<00:00,  1.30it/s]\n",
            "                 all       1400       2107      0.885      0.851      0.909      0.703\n",
            "\n",
            "     Epoch   gpu_mem       box       obj       cls    labels  img_size\n",
            "     69/79     4.16G   0.01769  0.004394  0.006296       169       416: 100% 175/175 [02:55<00:00,  1.00s/it]\n",
            "               Class     Images     Labels          P          R     mAP@.5 mAP@.5:.95: 100% 22/22 [00:16<00:00,  1.33it/s]\n",
            "                 all       1400       2107      0.901      0.838      0.909      0.703\n",
            "\n",
            "     Epoch   gpu_mem       box       obj       cls    labels  img_size\n",
            "     70/79     4.16G   0.01792  0.004464  0.006409       133       416: 100% 175/175 [02:59<00:00,  1.03s/it]\n",
            "               Class     Images     Labels          P          R     mAP@.5 mAP@.5:.95: 100% 22/22 [00:13<00:00,  1.59it/s]\n",
            "                 all       1400       2107      0.904      0.839      0.911      0.703\n",
            "\n",
            "     Epoch   gpu_mem       box       obj       cls    labels  img_size\n",
            "     71/79     4.16G   0.01764  0.004439  0.006327       150       416: 100% 175/175 [02:57<00:00,  1.01s/it]\n",
            "               Class     Images     Labels          P          R     mAP@.5 mAP@.5:.95: 100% 22/22 [00:14<00:00,  1.53it/s]\n",
            "                 all       1400       2107      0.904      0.831      0.908      0.702\n",
            "\n",
            "     Epoch   gpu_mem       box       obj       cls    labels  img_size\n",
            "     72/79     4.16G    0.0179  0.004441  0.006442       145       416: 100% 175/175 [03:00<00:00,  1.03s/it]\n",
            "               Class     Images     Labels          P          R     mAP@.5 mAP@.5:.95: 100% 22/22 [00:15<00:00,  1.41it/s]\n",
            "                 all       1400       2107      0.901      0.833      0.909      0.702\n",
            "\n",
            "     Epoch   gpu_mem       box       obj       cls    labels  img_size\n",
            "     73/79     4.16G   0.01763  0.004304  0.006273       117       416: 100% 175/175 [02:59<00:00,  1.03s/it]\n",
            "               Class     Images     Labels          P          R     mAP@.5 mAP@.5:.95: 100% 22/22 [00:14<00:00,  1.48it/s]\n",
            "                 all       1400       2107       0.88      0.853       0.91      0.705\n",
            "\n",
            "     Epoch   gpu_mem       box       obj       cls    labels  img_size\n",
            "     74/79     4.16G   0.01776   0.00445  0.006269       143       416: 100% 175/175 [02:58<00:00,  1.02s/it]\n",
            "               Class     Images     Labels          P          R     mAP@.5 mAP@.5:.95: 100% 22/22 [00:14<00:00,  1.48it/s]\n",
            "                 all       1400       2107      0.863      0.867       0.91      0.703\n",
            "\n",
            "     Epoch   gpu_mem       box       obj       cls    labels  img_size\n",
            "     75/79     4.16G   0.01784  0.004422  0.006158       132       416: 100% 175/175 [02:57<00:00,  1.02s/it]\n",
            "               Class     Images     Labels          P          R     mAP@.5 mAP@.5:.95: 100% 22/22 [00:15<00:00,  1.40it/s]\n",
            "                 all       1400       2107      0.875      0.861       0.91      0.701\n",
            "\n",
            "     Epoch   gpu_mem       box       obj       cls    labels  img_size\n",
            "     76/79     4.16G   0.01788  0.004374  0.006255       132       416: 100% 175/175 [02:58<00:00,  1.02s/it]\n",
            "               Class     Images     Labels          P          R     mAP@.5 mAP@.5:.95: 100% 22/22 [00:13<00:00,  1.62it/s]\n",
            "                 all       1400       2107      0.918      0.825      0.908      0.705\n",
            "\n",
            "     Epoch   gpu_mem       box       obj       cls    labels  img_size\n",
            "     77/79     4.16G   0.01762  0.004339  0.006257       139       416: 100% 175/175 [03:00<00:00,  1.03s/it]\n",
            "               Class     Images     Labels          P          R     mAP@.5 mAP@.5:.95: 100% 22/22 [00:15<00:00,  1.41it/s]\n",
            "                 all       1400       2107      0.888      0.851      0.911      0.705\n",
            "\n",
            "     Epoch   gpu_mem       box       obj       cls    labels  img_size\n",
            "     78/79     4.16G   0.01768  0.004343  0.006218       130       416: 100% 175/175 [02:58<00:00,  1.02s/it]\n",
            "               Class     Images     Labels          P          R     mAP@.5 mAP@.5:.95: 100% 22/22 [00:15<00:00,  1.40it/s]\n",
            "                 all       1400       2107      0.901      0.842      0.912      0.705\n",
            "\n",
            "     Epoch   gpu_mem       box       obj       cls    labels  img_size\n",
            "     79/79     4.16G   0.01776  0.004394  0.006202       121       416: 100% 175/175 [02:58<00:00,  1.02s/it]\n",
            "               Class     Images     Labels          P          R     mAP@.5 mAP@.5:.95: 100% 22/22 [00:15<00:00,  1.40it/s]\n",
            "                 all       1400       2107      0.897      0.845      0.911      0.707\n",
            "\n",
            "80 epochs completed in 4.374 hours.\n",
            "Optimizer stripped from runs/train/yolo5s_construction_human/weights/last.pt, 14.4MB\n",
            "Optimizer stripped from runs/train/yolo5s_construction_human/weights/best.pt, 14.4MB\n",
            "\n",
            "Validating runs/train/yolo5s_construction_human/weights/best.pt...\n",
            "Fusing layers... \n",
            "Model Summary: 213 layers, 7039792 parameters, 0 gradients, 15.9 GFLOPs\n",
            "               Class     Images     Labels          P          R     mAP@.5 mAP@.5:.95: 100% 22/22 [00:12<00:00,  1.77it/s]\n",
            "                 all       1400       2107      0.896      0.844      0.911      0.706\n",
            "              person       1400        230      0.855      0.926      0.945      0.726\n",
            "           excavator       1400        312       0.93      0.878      0.931      0.726\n",
            "           compactor       1400        152      0.863      0.849      0.919      0.751\n",
            "               dozer       1400        125      0.913       0.92      0.961      0.747\n",
            "              grader       1400        156      0.987      0.936      0.985      0.853\n",
            "          dump_truck       1400        452       0.84      0.733      0.825      0.555\n",
            "        cement_truck       1400        106      0.898      0.913      0.952       0.78\n",
            "        wheel_loader       1400        220      0.882      0.812      0.918      0.763\n",
            "      backhoe_loader       1400        170      0.939      0.904      0.961      0.806\n",
            "         tower_crane       1400         61        0.9      0.589      0.738      0.437\n",
            "        mobile_crane       1400        123      0.855      0.829      0.888      0.627\n",
            "\n",
            "\u001b[34m\u001b[1mwandb\u001b[0m: Waiting for W&B process to finish, PID 441... (success).\n",
            "\u001b[34m\u001b[1mwandb\u001b[0m:                                                                                \n",
            "\u001b[34m\u001b[1mwandb\u001b[0m: Run history:\n",
            "\u001b[34m\u001b[1mwandb\u001b[0m:        metrics/mAP_0.5 ▁▂▂▃▃▄▅▅▆▆▇▇▇▇██████████████████████████\n",
            "\u001b[34m\u001b[1mwandb\u001b[0m:   metrics/mAP_0.5:0.95 ▁▂▂▃▃▄▄▅▅▆▆▇▇▇▇▇████████████████████████\n",
            "\u001b[34m\u001b[1mwandb\u001b[0m:      metrics/precision ▁▃▃▃▃▃▄▅▅▆▆▇▇▇██████████████████████████\n",
            "\u001b[34m\u001b[1mwandb\u001b[0m:         metrics/recall ▁▃▄▃▄▅▅▅▅▅▆▆▆▇▇▇▇▇▇▇▇▇█▇▇▇████████████▇█\n",
            "\u001b[34m\u001b[1mwandb\u001b[0m:         train/box_loss █▄▃▂▂▂▂▂▂▂▂▂▂▁▁▁▁▁▁▁▁▁▁▁▁▁▁▁▁▁▁▁▁▁▁▁▁▁▁▁\n",
            "\u001b[34m\u001b[1mwandb\u001b[0m:         train/cls_loss █▇▆▆▅▅▅▄▄▄▃▃▃▃▃▂▂▂▂▂▂▂▂▁▁▁▁▁▁▁▁▁▁▁▁▁▁▁▁▁\n",
            "\u001b[34m\u001b[1mwandb\u001b[0m:         train/obj_loss ▇█▆▄▃▃▂▂▂▂▂▂▂▂▂▁▂▂▁▁▁▁▁▁▁▁▁▁▁▁▁▁▁▁▁▁▁▁▁▁\n",
            "\u001b[34m\u001b[1mwandb\u001b[0m:           val/box_loss █▄▃▂▂▂▂▁▁▁▁▁▁▁▁▁▁▁▁▁▁▁▁▁▁▁▁▁▁▁▁▁▁▁▁▁▁▁▁▁\n",
            "\u001b[34m\u001b[1mwandb\u001b[0m:           val/cls_loss █▇▆▆▅▅▄▄▄▃▃▃▂▂▂▂▂▂▁▁▁▁▁▁▁▁▁▁▁▁▁▁▁▁▁▁▁▁▁▁\n",
            "\u001b[34m\u001b[1mwandb\u001b[0m:           val/obj_loss █▅▄▃▂▂▂▂▂▂▁▁▁▁▁▁▁▁▁▁▁▁▁▁▁▁▁▁▁▁▁▁▁▁▁▁▁▁▁▁\n",
            "\u001b[34m\u001b[1mwandb\u001b[0m:                  x/lr0 ▁▄▇█████▇▇▇▇▇▆▆▆▆▅▅▅▅▄▄▄▄▃▃▃▃▂▂▂▂▂▁▁▁▁▁▁\n",
            "\u001b[34m\u001b[1mwandb\u001b[0m:                  x/lr1 ▁▄▇█████▇▇▇▇▇▆▆▆▆▅▅▅▅▄▄▄▄▃▃▃▃▂▂▂▂▂▁▁▁▁▁▁\n",
            "\u001b[34m\u001b[1mwandb\u001b[0m:                  x/lr2 █▅▂▁▁▁▁▁▁▁▁▁▁▁▁▁▁▁▁▁▁▁▁▁▁▁▁▁▁▁▁▁▁▁▁▁▁▁▁▁\n",
            "\u001b[34m\u001b[1mwandb\u001b[0m: \n",
            "\u001b[34m\u001b[1mwandb\u001b[0m: Run summary:\n",
            "\u001b[34m\u001b[1mwandb\u001b[0m:        metrics/mAP_0.5 0.91135\n",
            "\u001b[34m\u001b[1mwandb\u001b[0m:   metrics/mAP_0.5:0.95 0.70666\n",
            "\u001b[34m\u001b[1mwandb\u001b[0m:      metrics/precision 0.89671\n",
            "\u001b[34m\u001b[1mwandb\u001b[0m:         metrics/recall 0.84509\n",
            "\u001b[34m\u001b[1mwandb\u001b[0m:         train/box_loss 0.01776\n",
            "\u001b[34m\u001b[1mwandb\u001b[0m:         train/cls_loss 0.0062\n",
            "\u001b[34m\u001b[1mwandb\u001b[0m:         train/obj_loss 0.00439\n",
            "\u001b[34m\u001b[1mwandb\u001b[0m:           val/box_loss 0.01447\n",
            "\u001b[34m\u001b[1mwandb\u001b[0m:           val/cls_loss 0.00356\n",
            "\u001b[34m\u001b[1mwandb\u001b[0m:           val/obj_loss 0.00216\n",
            "\u001b[34m\u001b[1mwandb\u001b[0m:                  x/lr0 0.00039\n",
            "\u001b[34m\u001b[1mwandb\u001b[0m:                  x/lr1 0.00039\n",
            "\u001b[34m\u001b[1mwandb\u001b[0m:                  x/lr2 0.00039\n",
            "\u001b[34m\u001b[1mwandb\u001b[0m: \n",
            "\u001b[34m\u001b[1mwandb\u001b[0m: Synced 5 W&B file(s), 337 media file(s), 1 artifact file(s) and 0 other file(s)\n",
            "\u001b[34m\u001b[1mwandb\u001b[0m: Synced \u001b[33myolo5s_construction_human\u001b[0m: \u001b[34mhttps://wandb.ai/hyob/YOLOv5/runs/3ara7qbs\u001b[0m\n",
            "\u001b[34m\u001b[1mwandb\u001b[0m: Find logs at: ./wandb/run-20211212_040759-3ara7qbs/logs/debug.log\n",
            "\u001b[34m\u001b[1mwandb\u001b[0m: \n",
            "Results saved to \u001b[1mruns/train/yolo5s_construction_human\u001b[0m\n"
          ]
        }
      ]
    },
    {
      "cell_type": "markdown",
      "metadata": {
        "id": "W-hOUmTdPF9O"
      },
      "source": [
        "## Detect\n",
        "`python detect.py --weights runs/train/yolo5s_construction_human/weights/best.pt --source 'https://youtu.be/MHaZXSneOGQ'`\n",
        "\n",
        "https://stackoverflow.com/questions/70075378/error-in-python-script-using-python-vlc-and-pafy"
      ]
    },
    {
      "cell_type": "markdown",
      "metadata": {
        "id": "GDG26RUVf3IX"
      },
      "source": [
        "## Download weights"
      ]
    },
    {
      "cell_type": "code",
      "metadata": {
        "id": "rpl9KQxxRdsI"
      },
      "source": [
        "from google.colab import files"
      ],
      "execution_count": null,
      "outputs": []
    },
    {
      "cell_type": "code",
      "metadata": {
        "colab": {
          "base_uri": "https://localhost:8080/",
          "height": 451
        },
        "id": "kGEEeuAJPHnr",
        "outputId": "6ee86cda-2ad3-4fab-bb80-860f33f94470"
      },
      "source": [
        "!zip -r yolo5s_construction_human.zip runs/train/yolo5s_construction_human/\n",
        "files.download('yolo5s_construction_human.zip')"
      ],
      "execution_count": null,
      "outputs": [
        {
          "output_type": "stream",
          "name": "stdout",
          "text": [
            "  adding: runs/train/yolo5s_construction_human/ (stored 0%)\n",
            "  adding: runs/train/yolo5s_construction_human/labels.jpg (deflated 14%)\n",
            "  adding: runs/train/yolo5s_construction_human/val_batch2_pred.jpg (deflated 9%)\n",
            "  adding: runs/train/yolo5s_construction_human/R_curve.png (deflated 5%)\n",
            "  adding: runs/train/yolo5s_construction_human/val_batch0_labels.jpg (deflated 11%)\n",
            "  adding: runs/train/yolo5s_construction_human/events.out.tfevents.1639282079.b082e473e265.403.0 (deflated 19%)\n",
            "  adding: runs/train/yolo5s_construction_human/F1_curve.png (deflated 4%)\n",
            "  adding: runs/train/yolo5s_construction_human/val_batch1_labels.jpg (deflated 11%)\n",
            "  adding: runs/train/yolo5s_construction_human/opt.yaml (deflated 47%)\n",
            "  adding: runs/train/yolo5s_construction_human/train_batch1.jpg (deflated 6%)\n",
            "  adding: runs/train/yolo5s_construction_human/val_batch2_labels.jpg (deflated 9%)\n",
            "  adding: runs/train/yolo5s_construction_human/val_batch0_pred.jpg (deflated 11%)\n",
            "  adding: runs/train/yolo5s_construction_human/train_batch0.jpg (deflated 4%)\n",
            "  adding: runs/train/yolo5s_construction_human/confusion_matrix.png (deflated 15%)\n",
            "  adding: runs/train/yolo5s_construction_human/labels_correlogram.jpg (deflated 23%)\n",
            "  adding: runs/train/yolo5s_construction_human/val_batch1_pred.jpg (deflated 11%)\n",
            "  adding: runs/train/yolo5s_construction_human/results.csv (deflated 83%)\n",
            "  adding: runs/train/yolo5s_construction_human/hyp.yaml (deflated 42%)\n",
            "  adding: runs/train/yolo5s_construction_human/train_batch2.jpg (deflated 5%)\n",
            "  adding: runs/train/yolo5s_construction_human/P_curve.png (deflated 7%)\n",
            "  adding: runs/train/yolo5s_construction_human/results.png (deflated 10%)\n",
            "  adding: runs/train/yolo5s_construction_human/weights/ (stored 0%)\n",
            "  adding: runs/train/yolo5s_construction_human/weights/last.pt (deflated 8%)\n",
            "  adding: runs/train/yolo5s_construction_human/weights/best.pt (deflated 8%)\n",
            "  adding: runs/train/yolo5s_construction_human/PR_curve.png (deflated 8%)\n"
          ]
        },
        {
          "output_type": "display_data",
          "data": {
            "application/javascript": [
              "\n",
              "    async function download(id, filename, size) {\n",
              "      if (!google.colab.kernel.accessAllowed) {\n",
              "        return;\n",
              "      }\n",
              "      const div = document.createElement('div');\n",
              "      const label = document.createElement('label');\n",
              "      label.textContent = `Downloading \"${filename}\": `;\n",
              "      div.appendChild(label);\n",
              "      const progress = document.createElement('progress');\n",
              "      progress.max = size;\n",
              "      div.appendChild(progress);\n",
              "      document.body.appendChild(div);\n",
              "\n",
              "      const buffers = [];\n",
              "      let downloaded = 0;\n",
              "\n",
              "      const channel = await google.colab.kernel.comms.open(id);\n",
              "      // Send a message to notify the kernel that we're ready.\n",
              "      channel.send({})\n",
              "\n",
              "      for await (const message of channel.messages) {\n",
              "        // Send a message to notify the kernel that we're ready.\n",
              "        channel.send({})\n",
              "        if (message.buffers) {\n",
              "          for (const buffer of message.buffers) {\n",
              "            buffers.push(buffer);\n",
              "            downloaded += buffer.byteLength;\n",
              "            progress.value = downloaded;\n",
              "          }\n",
              "        }\n",
              "      }\n",
              "      const blob = new Blob(buffers, {type: 'application/binary'});\n",
              "      const a = document.createElement('a');\n",
              "      a.href = window.URL.createObjectURL(blob);\n",
              "      a.download = filename;\n",
              "      div.appendChild(a);\n",
              "      a.click();\n",
              "      div.remove();\n",
              "    }\n",
              "  "
            ],
            "text/plain": [
              "<IPython.core.display.Javascript object>"
            ]
          },
          "metadata": {}
        },
        {
          "output_type": "display_data",
          "data": {
            "application/javascript": [
              "download(\"download_2e04c79d-4f4d-44f7-9fd7-809f684aacfe\", \"yolo5s_construction_human.zip\", 33403804)"
            ],
            "text/plain": [
              "<IPython.core.display.Javascript object>"
            ]
          },
          "metadata": {}
        }
      ]
    },
    {
      "cell_type": "code",
      "source": [
        ""
      ],
      "metadata": {
        "id": "PUHf4hQK1qiI"
      },
      "execution_count": null,
      "outputs": []
    }
  ]
}